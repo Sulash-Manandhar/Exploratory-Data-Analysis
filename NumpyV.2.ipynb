{
 "cells": [
  {
   "cell_type": "code",
   "execution_count": 2,
   "metadata": {},
   "outputs": [
    {
     "name": "stdout",
     "output_type": "stream",
     "text": [
      "Requirement already satisfied: numpy in e:\\program_file\\python\\lib\\site-packages (1.19.3)\n"
     ]
    },
    {
     "name": "stderr",
     "output_type": "stream",
     "text": [
      "WARNING: You are using pip version 20.1.1; however, version 21.1.2 is available.\n",
      "You should consider upgrading via the 'e:\\program_file\\python\\python.exe -m pip install --upgrade pip' command.\n"
     ]
    }
   ],
   "source": [
    "!pip install numpy\n"
   ]
  },
  {
   "cell_type": "code",
   "execution_count": 3,
   "metadata": {},
   "outputs": [],
   "source": [
    "import numpy as np"
   ]
  },
  {
   "cell_type": "code",
   "execution_count": 4,
   "metadata": {},
   "outputs": [
    {
     "name": "stdout",
     "output_type": "stream",
     "text": [
      "[1 2 3 4 5]\n",
      "(5,)\n",
      "int32\n",
      "5\n",
      "1\n",
      "4\n"
     ]
    }
   ],
   "source": [
    "array01 = np.array([1,2,3,4,5])\n",
    "print(array01)\n",
    "print(array01.shape) #shape\n",
    "print(array01.dtype) #datatype\n",
    "print(array01.size) #size\n",
    "print(array01.ndim) #dimension\n",
    "print(array01.itemsize) #size of array in bit"
   ]
  },
  {
   "cell_type": "code",
   "execution_count": 5,
   "metadata": {},
   "outputs": [
    {
     "name": "stdout",
     "output_type": "stream",
     "text": [
      "1\n"
     ]
    }
   ],
   "source": [
    "array02 = np.array([12,6,1,4,11])\n",
    "print(array02[2])"
   ]
  },
  {
   "cell_type": "code",
   "execution_count": 6,
   "metadata": {},
   "outputs": [
    {
     "name": "stdout",
     "output_type": "stream",
     "text": [
      "15\n"
     ]
    }
   ],
   "source": [
    "array02[2] = 15 #editing the element of the array\n",
    "print(array02[2])"
   ]
  },
  {
   "cell_type": "code",
   "execution_count": 7,
   "metadata": {},
   "outputs": [
    {
     "name": "stdout",
     "output_type": "stream",
     "text": [
      "[1 2 3 4 5]\n",
      "[1, 2, 3, 4, 5]\n"
     ]
    }
   ],
   "source": [
    "#array vs list\n",
    "l = [1,2,3,4,5] #this is list\n",
    "a = np.array([1,2,3,4,5]) #this is array\n",
    "print(a)\n",
    "print(l)\n"
   ]
  },
  {
   "cell_type": "code",
   "execution_count": 8,
   "metadata": {},
   "outputs": [
    {
     "name": "stdout",
     "output_type": "stream",
     "text": [
      "[1, 2, 3, 4, 5, 6]\n",
      "[1, 2, 3, 4, 5, 6, 10]\n"
     ]
    }
   ],
   "source": [
    "\n",
    "l.append(6) #adding element to the list\n",
    "print(l)\n",
    "\n",
    "l2 = l + [10] #adding to the list\n",
    "print(l2)"
   ]
  },
  {
   "cell_type": "code",
   "execution_count": 33,
   "metadata": {},
   "outputs": [
    {
     "name": "stdout",
     "output_type": "stream",
     "text": [
      "[1 2 3 4 5 6]\n"
     ]
    },
    {
     "data": {
      "text/plain": [
       "array([2, 3, 4, 5, 6, 7])"
      ]
     },
     "execution_count": 33,
     "metadata": {},
     "output_type": "execute_result"
    }
   ],
   "source": [
    "#broadcasting \n",
    "print(a)\n",
    "a= a + np.array([1])\n",
    "a"
   ]
  },
  {
   "cell_type": "code",
   "execution_count": 10,
   "metadata": {},
   "outputs": [
    {
     "data": {
      "text/plain": [
       "array([ 1,  2,  3,  4,  1,  2,  3,  4, 12, 31,  2])"
      ]
     },
     "execution_count": 10,
     "metadata": {},
     "output_type": "execute_result"
    }
   ],
   "source": [
    "#adding to the array\n",
    "a = np.array([1,2,3,4])\n",
    "b = np.array([1,2,3,4])\n",
    "newArray = np.append(a,b) #same as below\n",
    "newArray = np.append(newArray,[12,31,2]) #this also work\n",
    "newArray"
   ]
  },
  {
   "cell_type": "code",
   "execution_count": 11,
   "metadata": {},
   "outputs": [
    {
     "name": "stdout",
     "output_type": "stream",
     "text": [
      "[1, 2, 3, 4, 5, 1, 2, 3, 4, 5]\n",
      "[ 2  4  6  8 10]\n"
     ]
    }
   ],
   "source": [
    "l = [1,2,3,4,5]\n",
    "a = np.array([1,2,3,4,5])\n",
    "\n",
    "l2 = l*2\n",
    "print(l2)\n",
    "\n",
    "a2 = a*2\n",
    "print(a2)"
   ]
  },
  {
   "cell_type": "code",
   "execution_count": 12,
   "metadata": {},
   "outputs": [
    {
     "name": "stdout",
     "output_type": "stream",
     "text": [
      "[1, 2, 3, 4, 5]\n",
      "[1, 8, 27, 64, 125]\n",
      "[1, 8, 27, 64, 125]\n"
     ]
    }
   ],
   "source": [
    "print(l)\n",
    "l3=[]\n",
    "for i in l:\n",
    "    l3.append(i**3) #power of i \n",
    "print(l3)\n",
    "\n",
    "\n",
    "l4 = [i**3 for i in l] #same as above\n",
    "print(l4)"
   ]
  },
  {
   "cell_type": "code",
   "execution_count": 13,
   "metadata": {},
   "outputs": [
    {
     "name": "stdout",
     "output_type": "stream",
     "text": [
      "[1.         1.41421356 1.73205081 2.         2.23606798]\n",
      "[0.         0.69314718 1.09861229 1.38629436 1.60943791]\n",
      "[  2.71828183   7.3890561   20.08553692  54.59815003 148.4131591 ]\n"
     ]
    }
   ],
   "source": [
    "a3 = np.sqrt(a) #square root\n",
    "print(a3)\n",
    "a3=np.log(a) #log\n",
    "print(a3)\n",
    "a3=np.exp(a) #expon\n",
    "print(a3)"
   ]
  },
  {
   "cell_type": "code",
   "execution_count": 14,
   "metadata": {},
   "outputs": [
    {
     "name": "stdout",
     "output_type": "stream",
     "text": [
      "206\n",
      "206\n",
      "206\n"
     ]
    }
   ],
   "source": [
    "a = np.array([3,5,6,7])\n",
    "b = np.array([8,9,10,11])\n",
    "\n",
    "dot = 0\n",
    "for i in range(len(a)):\n",
    "    dot+=a[i]*b[i]\n",
    "print(dot)\n",
    "\n",
    "\n",
    "numpy_dot = np.dot(a,b)\n",
    "print(numpy_dot)\n",
    "\n",
    "dot1 = a @ b\n",
    "print(dot1)"
   ]
  },
  {
   "cell_type": "code",
   "execution_count": 15,
   "metadata": {},
   "outputs": [
    {
     "name": "stdout",
     "output_type": "stream",
     "text": [
      "TIme while using List: 0.38516009999966627\n",
      "TIme while using array: 0.027636400000119465\n",
      "Ratio: 13.936695806906881\n"
     ]
    }
   ],
   "source": [
    "from timeit import default_timer as timer\n",
    "a = np.random.randn(1000) #random number generate\n",
    "b = np.random.randn(1000)\n",
    "\n",
    "A = list(a) #converting array into list\n",
    "B = list(b)\n",
    "\n",
    "T= 1000\n",
    "\n",
    "#first method\n",
    "def dot1():\n",
    "    dot=0\n",
    "    for i in range(len(a)):\n",
    "        dot +=A[i] * B[i]\n",
    "    return dot\n",
    "#second method\n",
    "def dot2():\n",
    "    return np.dot(a,b)\n",
    "\n",
    "#first timer\n",
    "start = timer()\n",
    "for t in range(T):\n",
    "    dot1()\n",
    "end=timer()\n",
    "t1 = end-start\n",
    "\n",
    "#second timer\n",
    "start = timer()\n",
    "for t in range(T):\n",
    "    dot2()\n",
    "end=timer()\n",
    "t2 = end-start\n",
    "\n",
    "print('TIme while using List:',t1)\n",
    "print('TIme while using array:',t2)\n",
    "print('Ratio:',t1/t2)"
   ]
  },
  {
   "cell_type": "code",
   "execution_count": 16,
   "metadata": {},
   "outputs": [
    {
     "name": "stdout",
     "output_type": "stream",
     "text": [
      "[[1 2 3 4]\n",
      " [5 6 7 8]]\n"
     ]
    }
   ],
   "source": [
    "# two dimension array\n",
    "# 1 2 3 4\n",
    "# 5 6 7 8\n",
    "a = np.array([[1,2,3,4],[5,6,7,8]]) \n",
    "print(a)"
   ]
  },
  {
   "cell_type": "code",
   "execution_count": 17,
   "metadata": {},
   "outputs": [
    {
     "name": "stdout",
     "output_type": "stream",
     "text": [
      "[1 2 3 4]\n",
      "[5 6 7 8]\n",
      "1\n",
      "7\n"
     ]
    }
   ],
   "source": [
    "print(a[0]) # first row of a\n",
    "print(a[1]) # second row of a\n",
    "print(a[0][0]) #accessing the first element\n",
    "print(a[1,2]) #accesing the particular element; same as above"
   ]
  },
  {
   "cell_type": "markdown",
   "metadata": {},
   "source": [
    "# slicing \n"
   ]
  },
  {
   "cell_type": "code",
   "execution_count": 18,
   "metadata": {},
   "outputs": [
    {
     "name": "stdout",
     "output_type": "stream",
     "text": [
      "[2 3 4]\n",
      "last three: [6 7 8]\n",
      "[1 5]\n",
      "[1 2]\n",
      "[[3 4]\n",
      " [7 8]]\n"
     ]
    }
   ],
   "source": [
    "q = np.array([1,2,3,4,5,6,7,8])\n",
    "print(q[1:4])\n",
    "print('last three:',q[-3:])\n",
    "\n",
    "a = np.array([[1,2,3,4],[5,6,7,8]]) \n",
    "print(a[:,0]) #accesing the first element of both row\n",
    "print(a[0,:2])\n",
    "print(a[:,-2:])"
   ]
  },
  {
   "cell_type": "code",
   "execution_count": 19,
   "metadata": {},
   "outputs": [
    {
     "name": "stdout",
     "output_type": "stream",
     "text": [
      "Array A: [[1 2]\n",
      " [3 4]]\n",
      "Array B: [[5 6]\n",
      " [7 8]]\n",
      "Axis None: [1 2 3 4 5 6 7 8]\n",
      "Axis 1: [[1 2 5 6]\n",
      " [3 4 7 8]]\n",
      "Axis 0: [[1 2]\n",
      " [3 4]\n",
      " [5 6]\n",
      " [7 8]]\n",
      "X: [[1 2 5 6]\n",
      " [3 4 7 8]]\n",
      "Y: [[5 6]\n",
      " [7 8]]\n"
     ]
    }
   ],
   "source": [
    "#concatenating \n",
    "a = np.array([[1,2],[3,4]])\n",
    "print(\"Array A:\",a)\n",
    "b= np.array([[5,6],[7,8]])\n",
    "print(\"Array B:\",b)\n",
    "\n",
    "c = np.concatenate((a,b),axis= None) #concatinating into single array\n",
    "print('Axis None:',c)\n",
    "d = np.concatenate((a,b),axis= 1) \n",
    "print('Axis 1:',d)\n",
    "e = np.concatenate((a,b),axis= 0) \n",
    "print('Axis 0:',e)\n",
    "\n",
    "\n",
    "#stacking\n",
    "x = np.hstack((a,b))\n",
    "print('X:',x)\n",
    "\n",
    "y = np.vstack((a,b))\n",
    "print('Y:',b)"
   ]
  },
  {
   "cell_type": "code",
   "execution_count": 20,
   "metadata": {},
   "outputs": [
    {
     "name": "stdout",
     "output_type": "stream",
     "text": [
      "15\n",
      "[3 7 5]\n",
      "[6 9]\n"
     ]
    }
   ],
   "source": [
    "a = np.array([[1,2,3],[2,5,2]])\n",
    "print(a.sum()) #aading all the element\n",
    "print(a.sum(axis=0)) #adding according to the column\n",
    "print(a.sum(axis=1)) #adding according to the row"
   ]
  },
  {
   "cell_type": "code",
   "execution_count": 21,
   "metadata": {},
   "outputs": [
    {
     "name": "stdout",
     "output_type": "stream",
     "text": [
      "2.5\n",
      "[1.5 3.5 2.5]\n",
      "[2. 3.]\n"
     ]
    }
   ],
   "source": [
    "print(a.mean()) #aading all the element\n",
    "print(a.mean(axis=0)) #adding according to the column\n",
    "print(a.mean(axis=1)) #adding according to the row"
   ]
  },
  {
   "cell_type": "code",
   "execution_count": 22,
   "metadata": {},
   "outputs": [
    {
     "name": "stdout",
     "output_type": "stream",
     "text": [
      "1.2583057392117916\n",
      "[0.5 1.5 0.5]\n",
      "[0.81649658 1.41421356]\n"
     ]
    }
   ],
   "source": [
    "print(a.std()) #aading all the element\n",
    "print(a.std(axis=0)) #adding according to the column\n",
    "print(a.std(axis=1)) #adding according to the row"
   ]
  },
  {
   "cell_type": "code",
   "execution_count": 23,
   "metadata": {},
   "outputs": [
    {
     "name": "stdout",
     "output_type": "stream",
     "text": [
      "5\n",
      "[2 5 3]\n",
      "[3 5]\n"
     ]
    }
   ],
   "source": [
    "print(a.max()) #aading all the element\n",
    "print(a.max(axis=0)) #adding according to the column\n",
    "print(a.max(axis=1)) #adding according to the row"
   ]
  },
  {
   "cell_type": "code",
   "execution_count": 24,
   "metadata": {},
   "outputs": [
    {
     "data": {
      "text/plain": [
       "dtype('int32')"
      ]
     },
     "execution_count": 24,
     "metadata": {},
     "output_type": "execute_result"
    }
   ],
   "source": [
    "a.dtype"
   ]
  },
  {
   "cell_type": "code",
   "execution_count": 25,
   "metadata": {},
   "outputs": [
    {
     "name": "stdout",
     "output_type": "stream",
     "text": [
      "[5 2 3 4]\n",
      "Reference B: [5 2 3 4]\n",
      "New B: [1 2 3 4]\n"
     ]
    }
   ],
   "source": [
    "#this is not the way to copy array\n",
    "a = np.array([1,2,3,4])\n",
    "b = a #referencing\n",
    "b[0]=5\n",
    "print(a)\n",
    "print('Reference B:',b)\n",
    "\n",
    "a = np.array([1,2,3,4])\n",
    "b= a.copy()\n",
    "print('New B:',b)"
   ]
  },
  {
   "cell_type": "markdown",
   "metadata": {},
   "source": [
    "# EDA02 "
   ]
  },
  {
   "cell_type": "code",
   "execution_count": 26,
   "metadata": {},
   "outputs": [
    {
     "name": "stdout",
     "output_type": "stream",
     "text": [
      "A:\n",
      " [[0. 0. 0.]\n",
      " [0. 0. 0.]]\n",
      "B:\n",
      " [[1. 1. 1.]\n",
      " [1. 1. 1.]\n",
      " [1. 1. 1.]]\n",
      "C:(ones multiply by 4\n",
      ") [[4. 4. 4.]\n",
      " [4. 4. 4.]\n",
      " [4. 4. 4.]]\n",
      "D:\n",
      " [[5 5 5]\n",
      " [5 5 5]\n",
      " [5 5 5]]\n",
      "E:\n",
      " [[1. 0.]\n",
      " [0. 1.]]\n"
     ]
    }
   ],
   "source": [
    "#generating data\n",
    "a = np.zeros((2,3)) #tuple - (x,y)\n",
    "print('A:\\n',a)\n",
    "\n",
    "#generating ones value\n",
    "b= np.ones((3,3))\n",
    "print('B:\\n',b)\n",
    "\n",
    "#generating ones value multiply by 4\n",
    "c= 4 * np.ones((3,3))\n",
    "print(\"C:(ones multiply by 4\\n)\",c)\n",
    "\n",
    "#same as c\n",
    "d= np.full((3,3),5)\n",
    "print('D:\\n',d)\n",
    "\n",
    "#identiy matrix\n",
    "e = np.eye(2)\n",
    "print('E:\\n',e)"
   ]
  },
  {
   "cell_type": "markdown",
   "metadata": {},
   "source": [
    "# Range"
   ]
  },
  {
   "cell_type": "code",
   "execution_count": 27,
   "metadata": {},
   "outputs": [
    {
     "name": "stdout",
     "output_type": "stream",
     "text": [
      "F:\n",
      " [0 1 2 3 4 5 6 7 8 9]\n",
      "g:\n",
      " [1 3 5]\n",
      "h:\n",
      " [ 0. 16.]\n"
     ]
    }
   ],
   "source": [
    "#range of number\n",
    "f = np.arange(10)\n",
    "print('F:\\n',f)\n",
    "\n",
    "g =np.arange(1,6,2) #starting from 1 to range 6 with 2 step gap\n",
    "print('g:\\n',g)\n",
    "\n",
    "h= np.linspace(0,16,2) #generating equal spacing number \n",
    "print('h:\\n',h)"
   ]
  },
  {
   "cell_type": "code",
   "execution_count": 28,
   "metadata": {},
   "outputs": [
    {
     "name": "stdout",
     "output_type": "stream",
     "text": [
      "a: [[0.98607309 0.67784744]\n",
      " [0.36012625 0.3223694 ]\n",
      " [0.0726968  0.22562771]]\n",
      "b: [[-0.06290886  0.80248721]\n",
      " [-0.40739926  1.0283821 ]\n",
      " [-0.89817717  1.26465298]]\n",
      "D: [[3 8 8]\n",
      " [8 9 9]\n",
      " [4 9 4]]\n",
      "E: [15  7 14 13 17]\n",
      "f: [ 4 60  1  4  3  2  2  3]\n"
     ]
    }
   ],
   "source": [
    "#random number generate\n",
    "a = np.random.random((3,2))\n",
    "print(\"a:\",a)\n",
    "\n",
    "b= np.random.randn(3,2)\n",
    "print('b:',b)\n",
    "\n",
    "#always equally divided so mean is always zero and std and var is always 1\n",
    "c = np.random.randn(50)\n",
    "# print(\"C:\",c)\n",
    "# print(\"Mean\",c.mean())\n",
    "# print(\"Variance\",c.var())\n",
    "# print(\"Standard Deviance\",c.std())\n",
    "\n",
    "#genertate integer number from 1 to some range\n",
    "d= np.random.randint(3,10,size = (3,3))\n",
    "print(\"D:\",d)\n",
    "\n",
    "#generate array *1D\n",
    "e= np.random.randint(20, size=(5))\n",
    "print('E:',e)\n",
    "\n",
    "#generate random number from the choice \n",
    "f=np.random.choice([1,2,3,4,5,12,60],size =8)\n",
    "print('f:',f)"
   ]
  },
  {
   "cell_type": "code",
   "execution_count": 29,
   "metadata": {},
   "outputs": [
    {
     "name": "stdout",
     "output_type": "stream",
     "text": [
      "A [[1 2]\n",
      " [3 4]\n",
      " [4 5]]\n",
      "Filtered: [4 4 5]\n",
      "Replace: [[5 5]\n",
      " [3 4]\n",
      " [4 5]]\n"
     ]
    }
   ],
   "source": [
    "#search number or filter number in an array\n",
    "a = np.array([[1,2],[3,4],[4,5]])\n",
    "print(\"A\",a)\n",
    "\n",
    "\n",
    "bool_index = a>2\n",
    "# print(bool_index)\n",
    "# print(a[bool_index])\n",
    "\n",
    "#smae as above but shorter\n",
    "print(\"Filtered:\",a[a>3])\n",
    "\n",
    "#replace number\n",
    "search = np.where(a>2,a,5)\n",
    "print(\"Replace:\",search)"
   ]
  },
  {
   "cell_type": "code",
   "execution_count": 30,
   "metadata": {},
   "outputs": [
    {
     "name": "stdout",
     "output_type": "stream",
     "text": [
      "[2 3 4 5]\n",
      "even index: [[1]\n",
      " [3]\n",
      " [6]]\n",
      "Even number: [[2]\n",
      " [4]\n",
      " [6]]\n",
      "odd index: [[0]\n",
      " [2]\n",
      " [4]\n",
      " [5]]\n",
      "odd number: [[1]\n",
      " [3]\n",
      " [5]\n",
      " [7]]\n"
     ]
    }
   ],
   "source": [
    "#fancy selection \n",
    "p = np.array ([1,2,3,4,5,7,6])\n",
    "q= [1,2,3,4]\n",
    "print(p[q])\n",
    "\n",
    "#selecting odd or even number ; it return index of even number\n",
    "even=np.argwhere((p%2==0).flatten()) #flatten converts 2D array into 1D array\n",
    "print('even index:',even)\n",
    "print(\"Even number:\",p[even])\n",
    "\n",
    "odd=np.argwhere((p%2==1).flatten()) #flatten converts 2D array into 1D array\n",
    "print('odd index:',odd)\n",
    "print(\"odd number:\",p[odd])"
   ]
  },
  {
   "cell_type": "code",
   "execution_count": 31,
   "metadata": {},
   "outputs": [
    {
     "name": "stdout",
     "output_type": "stream",
     "text": [
      "P: [ 3  6  7  1  3  5 12  3]\n",
      "largest value index: 6\n",
      "smallest value index: 3\n",
      "largest value: 12\n",
      "smallest value: 1\n"
     ]
    }
   ],
   "source": [
    "p = np.array([3,6,7,1,3,5,12,3])\n",
    "print(\"P:\",p)\n",
    "\n",
    "#give index of smallest and highest number index\n",
    "print(\"largest value index:\",p.argmax())\n",
    "print(\"smallest value index:\",p.argmin())\n",
    "\n",
    "print(\"largest value:\",p[p.argmax()])\n",
    "print(\"smallest value:\",p[p.argmin()])"
   ]
  },
  {
   "cell_type": "code",
   "execution_count": 32,
   "metadata": {},
   "outputs": [
    {
     "name": "stdout",
     "output_type": "stream",
     "text": [
      "a: [1 2 3 4 5 6]\n",
      "reshaped: [[1 2]\n",
      " [3 4]\n",
      " [5 6]]\n"
     ]
    }
   ],
   "source": [
    "a = np.arange(1,7)\n",
    "print(\"a:\",a)\n",
    "\n",
    "#change 1D into 2D or can be converted into any dimension array\n",
    "b=a.reshape(3,2)\n",
    "print(\"reshaped:\",b)"
   ]
  },
  {
   "cell_type": "code",
   "execution_count": null,
   "metadata": {},
   "outputs": [],
   "source": []
  }
 ],
 "metadata": {
  "kernelspec": {
   "display_name": "Python 3",
   "language": "python",
   "name": "python3"
  },
  "language_info": {
   "codemirror_mode": {
    "name": "ipython",
    "version": 3
   },
   "file_extension": ".py",
   "mimetype": "text/x-python",
   "name": "python",
   "nbconvert_exporter": "python",
   "pygments_lexer": "ipython3",
   "version": "3.8.5"
  }
 },
 "nbformat": 4,
 "nbformat_minor": 4
}
