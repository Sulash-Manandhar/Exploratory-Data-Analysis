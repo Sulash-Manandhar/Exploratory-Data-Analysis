{
 "cells": [
  {
   "cell_type": "markdown",
   "metadata": {},
   "source": [
    "1. Write a NumPy program to print the NumPy version in your system"
   ]
  },
  {
   "cell_type": "code",
   "execution_count": 1,
   "metadata": {},
   "outputs": [
    {
     "name": "stdout",
     "output_type": "stream",
     "text": [
      "Requirement already satisfied: numpy in e:\\program_file\\python\\lib\\site-packages (1.19.3)\n"
     ]
    },
    {
     "name": "stderr",
     "output_type": "stream",
     "text": [
      "WARNING: You are using pip version 20.1.1; however, version 21.1.2 is available.\n",
      "You should consider upgrading via the 'e:\\program_file\\python\\python.exe -m pip install --upgrade pip' command.\n"
     ]
    }
   ],
   "source": [
    "!pip install numpy\n",
    "import numpy as np\n",
    "\n"
   ]
  },
  {
   "cell_type": "code",
   "execution_count": 2,
   "metadata": {},
   "outputs": [
    {
     "data": {
      "text/plain": [
       "'1.19.3'"
      ]
     },
     "execution_count": 2,
     "metadata": {},
     "output_type": "execute_result"
    }
   ],
   "source": [
    "np.__version__ "
   ]
  },
  {
   "cell_type": "markdown",
   "metadata": {},
   "source": [
    "2. Write a NumPy program to convert a list of numeric value into a one-dimensional \n",
    "NumPy array. Go to the editor\n",
    "Expected Output:\n",
    "\n",
    "    Original List: [12.23, 13.32, 100, 36.32]"
   ]
  },
  {
   "cell_type": "code",
   "execution_count": 3,
   "metadata": {},
   "outputs": [
    {
     "name": "stdout",
     "output_type": "stream",
     "text": [
      "[ 12.23  13.32 100.    36.32]\n"
     ]
    }
   ],
   "source": [
    "list_01 = [12.23,13.32,100,36.32]\n",
    "array_01 = np.array(list_01)\n",
    "print(array_01)"
   ]
  },
  {
   "cell_type": "markdown",
   "metadata": {},
   "source": [
    "3. Write a NumPy program to create a 3x3 matrix with values ranging from 2 to 10. \n",
    "Expected Output:\n",
    "[[ 2 3 4]\n",
    "[ 5 6 7]\n",
    "[ 8 9 10]]"
   ]
  },
  {
   "cell_type": "code",
   "execution_count": 4,
   "metadata": {},
   "outputs": [
    {
     "name": "stdout",
     "output_type": "stream",
     "text": [
      "[[ 2  3  4]\n",
      " [ 5  6  7]\n",
      " [ 8  9 10]]\n"
     ]
    }
   ],
   "source": [
    "array_02 = np.arange(2,11)\n",
    "array_02=array_02.reshape(3,3)\n",
    "print(array_02)"
   ]
  },
  {
   "cell_type": "markdown",
   "metadata": {},
   "source": [
    "4. Write a NumPy program to create a null vector of size 10 and update sixth value \n",
    "to 11.\n",
    "\n",
    "[ 0. 0. 0. 0. 0. 0. 0. 0. 0. 0.]\n",
    "Update sixth value to 11\n",
    "\n",
    "[ 0. 0. 0. 0. 0. 0. 11. 0. 0. 0.]"
   ]
  },
  {
   "cell_type": "code",
   "execution_count": 5,
   "metadata": {},
   "outputs": [
    {
     "name": "stdout",
     "output_type": "stream",
     "text": [
      "[0. 0. 0. 0. 0. 0. 0. 0. 0. 0.]\n",
      "[ 0.  0.  0.  0.  0.  0. 11.  0.  0.  0.]\n"
     ]
    }
   ],
   "source": [
    "#crearting null value array\n",
    "array_01 = np.zeros((10))\n",
    "print(array_01)\n",
    "\n",
    "#swaping the sixth position value\n",
    "array_01[6]= 11\n",
    "print(array_01)\n"
   ]
  },
  {
   "cell_type": "markdown",
   "metadata": {},
   "source": [
    "5. Write a NumPy program to reverse an array (first element becomes last).\n",
    "\n",
    "Original array:\n",
    "[12 13 14 15 16 17 18 19 20 21 22 23 24 25 26 27 28 29 30 31 32 33 34 35 36 \n",
    "37]\n",
    "\n",
    "Reverse array:\n",
    "[37 36 35 34 33 32 31 30 29 28 27 26 25 24 23 22 21 20 19 18 17 16 15 14 13 \n",
    "12"
   ]
  },
  {
   "cell_type": "code",
   "execution_count": 6,
   "metadata": {},
   "outputs": [
    {
     "name": "stdout",
     "output_type": "stream",
     "text": [
      "[12 13 14 15 16 17 18 19 20 21 22 23 24 25 26 27 28 29 30 31 32 33 34 35\n",
      " 36 37]\n",
      "\n",
      " [37 36 35 34 33 32 31 30 29 28 27 26 25 24 23 22 21 20 19 18 17 16 15 14\n",
      " 13 12]\n"
     ]
    }
   ],
   "source": [
    "original_array = np.arange(12,38)\n",
    "print(original_array)\n",
    "\n",
    "reverse_array = np.flip(original_array)\n",
    "print('\\n',reverse_array)"
   ]
  },
  {
   "cell_type": "markdown",
   "metadata": {},
   "source": [
    "6. Write a NumPy program to convert an array to a float type. \n",
    "\n",
    "Sample output:\n",
    "Original array\n",
    "[1, 2, 3, 4]\n",
    "\n",
    "\n",
    "Array converted to a float type:\n",
    "[ 1. 2. 3. 4.]"
   ]
  },
  {
   "cell_type": "code",
   "execution_count": 7,
   "metadata": {},
   "outputs": [
    {
     "name": "stdout",
     "output_type": "stream",
     "text": [
      "[1 2 3 4]\n",
      "[1. 2. 3. 4.]\n"
     ]
    }
   ],
   "source": [
    "int_array = np.arange(1,5)\n",
    "print(int_array)\n",
    "float_array = int_array.astype(np.float)\n",
    "print(float_array)"
   ]
  },
  {
   "cell_type": "markdown",
   "metadata": {},
   "source": [
    "7. Write a NumPy program to create a 2d array with 1 on the border and 0 inside. \n",
    "Expected Output:\n",
    "    \n",
    "[[ 1. 1. 1. 1. 1.] \n",
    "\n",
    "[ 1. 0. 0. 0. 1.] \n",
    "\n",
    "[ 1. 0. 0. 0. 1.] \n",
    "\n",
    "[ 1. 0. 0. 0. 1.] \n",
    "\n",
    "[ 1. 1. 1. 1. 1.]]\n"
   ]
  },
  {
   "cell_type": "code",
   "execution_count": 8,
   "metadata": {},
   "outputs": [
    {
     "name": "stdout",
     "output_type": "stream",
     "text": [
      "[[1. 1. 1. 1. 1.]\n",
      " [1. 0. 0. 0. 1.]\n",
      " [1. 0. 0. 0. 1.]\n",
      " [1. 1. 1. 1. 1.]]\n"
     ]
    }
   ],
   "source": [
    "row_01 = np.array([[1,1,1,1,1],[1,0,0,0,1]])\n",
    "row_02 = np.flip(row_01)\n",
    "print(np.concatenate((row_01,row_02),axis=0).astype(float))\n"
   ]
  },
  {
   "cell_type": "markdown",
   "metadata": {},
   "source": [
    "8. Write a NumPy program to create a 8x8 matrix and fill it with a checkerboard \n",
    "pattern.\n",
    "\n",
    "Checkerboard pattern:\n",
    "\n",
    "[[0 1 0 1 0 1 0 1] \n",
    " \n",
    "[1 0 1 0 1 0 1 0] \n",
    " \n",
    "[0 1 0 1 0 1 0 1] \n",
    " \n",
    "[1 0 1 0 1 0 1 0] \n",
    " \n",
    "[0 1 0 1 0 1 0 1] \n",
    " \n",
    "[1 0 1 0 1 0 1 0] \n",
    " \n",
    "[0 1 0 1 0 1 0 1] \n",
    " \n",
    "[1 0 1 0 1 0 1 0]]"
   ]
  },
  {
   "cell_type": "code",
   "execution_count": 9,
   "metadata": {},
   "outputs": [
    {
     "name": "stdout",
     "output_type": "stream",
     "text": [
      "[[1 1 1 1 1 1 1 1]\n",
      " [1 1 1 1 1 1 1 1]\n",
      " [1 1 1 1 1 1 1 1]\n",
      " [1 1 1 1 1 1 1 1]\n",
      " [1 1 1 1 1 1 1 1]\n",
      " [1 1 1 1 1 1 1 1]\n",
      " [1 1 1 1 1 1 1 1]\n",
      " [1 1 1 1 1 1 1 1]]\n"
     ]
    },
    {
     "data": {
      "text/plain": [
       "array([[0, 1, 0, 1, 0, 1, 0, 1],\n",
       "       [1, 0, 1, 0, 1, 0, 1, 0],\n",
       "       [0, 1, 0, 1, 0, 1, 0, 1],\n",
       "       [1, 0, 1, 0, 1, 0, 1, 0],\n",
       "       [0, 1, 0, 1, 0, 1, 0, 1],\n",
       "       [1, 0, 1, 0, 1, 0, 1, 0],\n",
       "       [0, 1, 0, 1, 0, 1, 0, 1],\n",
       "       [1, 0, 1, 0, 1, 0, 1, 0]])"
      ]
     },
     "execution_count": 9,
     "metadata": {},
     "output_type": "execute_result"
    }
   ],
   "source": [
    "array = np.ones((8,8))\n",
    "array = array.astype(int)\n",
    "print(array)\n",
    "\n",
    "for i in range(0,8):\n",
    "    for j in range(0,8,2):\n",
    "        if(i%2==0):\n",
    "            array[i][j]=0\n",
    "        else:\n",
    "            array[i][j+1]=0\n",
    "array\n",
    "    \n",
    "    \n"
   ]
  },
  {
   "cell_type": "markdown",
   "metadata": {},
   "source": [
    "9. Write a NumPy program to convert the values of Centigrade degrees into \n",
    "Fahrenheit degrees. Centigrade values are stored into a NumPy array. \n",
    "\n",
    "Sample Array [0, 12, 45.21 ,34, 99.91]\n",
    "\n",
    "Expected Output:\n",
    "    \n",
    "Values in Fahrenheit degrees:\n",
    "    \n",
    "[ 0. 12. 45.21 34. 99.91]\n",
    "\n",
    "Values in Centigrade degrees:\n",
    "    \n",
    "[-17.77777778 -11.11111111 7.33888889 1.11111111 37.72777778]"
   ]
  },
  {
   "cell_type": "code",
   "execution_count": 10,
   "metadata": {},
   "outputs": [
    {
     "name": "stdout",
     "output_type": "stream",
     "text": [
      "celsius: [ 0.   12.   45.21 34.   99.   91.  ]\n",
      "fahrenheit: [ 32.     53.6   113.378  93.2   210.2   195.8  ]\n",
      "\n",
      "\n",
      "celsius: [-17.77777778 -11.11111111   7.33888889   1.11111111  37.72777778]\n",
      "fahrenheit [-4.00000033e-09  1.20000000e+01  4.52100000e+01  3.40000000e+01\n",
      "  9.99100000e+01]\n"
     ]
    }
   ],
   "source": [
    "celsius = np.array([0,12,45.21,34,99,91])\n",
    "print(\"celsius:\",celsius)\n",
    "fahrenheit = celsius * (9/5) +32\n",
    "print(\"fahrenheit:\",fahrenheit)\n",
    "print(\"\\n\")\n",
    "celsius = np.array([-17.77777778, -11.11111111, 7.33888889, 1.11111111, 37.72777778])\n",
    "print(\"celsius:\",celsius)\n",
    "fahrenheit = celsius * (9/5) + 32\n",
    "print(\"fahrenheit\",fahrenheit)"
   ]
  },
  {
   "cell_type": "markdown",
   "metadata": {},
   "source": [
    "10. Write a NumPy program to find common values between two arrays. \n",
    "Expected Output:\n",
    "    \n",
    "Array1: [ 0 10 20 40 60]\n",
    "    \n",
    "Array2: [10, 30, 40]\n",
    "    \n",
    "Common values between two arrays:\n",
    "    \n",
    "[10 40]"
   ]
  },
  {
   "cell_type": "code",
   "execution_count": 11,
   "metadata": {},
   "outputs": [
    {
     "name": "stdout",
     "output_type": "stream",
     "text": [
      "10\n",
      "40\n"
     ]
    }
   ],
   "source": [
    "array_01 = np.array([0,10,20,40,60])\n",
    "array_02 = np.array([10,30,40])\n",
    "\n",
    "for i in array_01:\n",
    "    for j in array_02:\n",
    "        if(i==j):\n",
    "            print(j)\n"
   ]
  },
  {
   "cell_type": "markdown",
   "metadata": {},
   "source": [
    "11. Write a NumPy program to get the unique elements of an array. \n",
    "Expected Output:\n",
    "Original array:\n",
    "\n",
    "[10 10 20 20 30 30]\n",
    "\n",
    "Unique elements of the above array:\n",
    "\n",
    "[10 20 30]\n",
    "\n",
    "Original array:\n",
    "\n",
    "[[1 1]\n",
    "\n",
    "[2 3]]\n",
    "\n",
    "Unique elements of the above array:\n",
    "\n",
    "[1 2 3]"
   ]
  },
  {
   "cell_type": "code",
   "execution_count": 12,
   "metadata": {},
   "outputs": [
    {
     "name": "stdout",
     "output_type": "stream",
     "text": [
      "[10 20 30]\n",
      "[1 2 3]\n"
     ]
    }
   ],
   "source": [
    "input_array = np.array([10,10,20,20,30,30])\n",
    "unique_array=np.unique(input_array)\n",
    "print(unique_array)\n",
    "\n",
    "input_array = np.array([[1,1],[2,3]])\n",
    "unique_array = np.unique(input_array)\n",
    "print(unique_array)"
   ]
  },
  {
   "cell_type": "markdown",
   "metadata": {},
   "source": [
    "12.Write a NumPy program to find the indices of the maximum and minimum values \n",
    "along the given axis of an array.\n",
    "Original array: [1 2 3 4 5 6]\n",
    "Maximum Values: 5\n",
    "Minimum Values: 0"
   ]
  },
  {
   "cell_type": "code",
   "execution_count": 13,
   "metadata": {},
   "outputs": [
    {
     "name": "stdout",
     "output_type": "stream",
     "text": [
      "5\n",
      "0\n"
     ]
    }
   ],
   "source": [
    "array = np.array([1,2,3,4,5,6])\n",
    "print(array.argmax())\n",
    "print(array.argmin())"
   ]
  },
  {
   "cell_type": "markdown",
   "metadata": {},
   "source": [
    "13.Write a NumPy program to create a new shape to an array without changing its \n",
    "data. \n",
    "Reshape 3x2:\n",
    "[[1 2]\n",
    "[3 4]\n",
    "[5 6]]\n",
    "Reshape 2x3:\n",
    "[[1 2 3]\n",
    "[4 5 6]]\n"
   ]
  },
  {
   "cell_type": "code",
   "execution_count": 14,
   "metadata": {},
   "outputs": [
    {
     "name": "stdout",
     "output_type": "stream",
     "text": [
      "[[1 2 3]\n",
      " [4 5 6]]\n"
     ]
    }
   ],
   "source": [
    "array = np.array([[1,2],[3,4],[5,6]])\n",
    "print(array.reshape(2,3))"
   ]
  },
  {
   "cell_type": "markdown",
   "metadata": {},
   "source": [
    "14.Write a NumPy program to create a 1-D array going from 0 to 50 and an array \n",
    "from 10 to 50. \n",
    "Expected Output:\n",
    "Array from 0 to 50:\n",
    "[ 0 1 2 3 4 5 6 7 8 9 10 11 12 13 14 15 16 17 18 19 20 21 22 23 24\n",
    "25 26 27 28 29 30 31 32 33 34 35 36 37 38 39 40 41 42 43 44 45 46 47 48 49]\n",
    "Array from 10 to 50:\n",
    "[10 11 12 13 14 15 16 17 18 19 20 21 22 23 24 25 26 27 28 29 30 31 32 33 34\n",
    "35 36 37 38 39 40 41 42 43 44 45 46 47 48 49]"
   ]
  },
  {
   "cell_type": "code",
   "execution_count": 15,
   "metadata": {},
   "outputs": [
    {
     "name": "stdout",
     "output_type": "stream",
     "text": [
      "[ 0  1  2  3  4  5  6  7  8  9 10 11 12 13 14 15 16 17 18 19 20 21 22 23\n",
      " 24 25 26 27 28 29 30 31 32 33 34 35 36 37 38 39 40 41 42 43 44 45 46 47\n",
      " 48 49]\n",
      "[10 11 12 13 14 15 16 17 18 19 20 21 22 23 24 25 26 27 28 29 30 31 32 33\n",
      " 34 35 36 37 38 39 40 41 42 43 44 45 46 47 48 49]\n"
     ]
    }
   ],
   "source": [
    "array_01 = np.arange(0,50)\n",
    "array_02 = np.arange(10,50)\n",
    "print(array_01)\n",
    "print(array_02)"
   ]
  },
  {
   "cell_type": "markdown",
   "metadata": {},
   "source": [
    "15.Write a NumPy program to Create a 1-D array of 30 evenly spaced elements \n",
    "between 2.5. and 6.5, inclusive. \n",
    "Expected Output:\n",
    "[ 2.5 2.63793103 2.77586207 2.9137931 3.05172414 3.18965517\n",
    ".................\n",
    "5.81034483 5.94827586 6.0862069 6.22413793 6.36206897 6.5 ]\n"
   ]
  },
  {
   "cell_type": "code",
   "execution_count": 16,
   "metadata": {},
   "outputs": [
    {
     "name": "stdout",
     "output_type": "stream",
     "text": [
      "[2.5        2.63793103 2.77586207 2.9137931  3.05172414 3.18965517\n",
      " 3.32758621 3.46551724 3.60344828 3.74137931 3.87931034 4.01724138\n",
      " 4.15517241 4.29310345 4.43103448 4.56896552 4.70689655 4.84482759\n",
      " 4.98275862 5.12068966 5.25862069 5.39655172 5.53448276 5.67241379\n",
      " 5.81034483 5.94827586 6.0862069  6.22413793 6.36206897 6.5       ]\n"
     ]
    }
   ],
   "source": [
    "array = np.linspace(2.5,6.5,30)\n",
    "print(array)"
   ]
  },
  {
   "cell_type": "markdown",
   "metadata": {},
   "source": [
    "16.Write a NumPy program to create an array which looks like below array.\n",
    "[[ 0. 0. 0.] \n",
    "[ 1. 0. 0.] \n",
    "[ 1. 1. 0.] \n",
    "[ 1. 1. 1.]]"
   ]
  },
  {
   "cell_type": "code",
   "execution_count": 17,
   "metadata": {},
   "outputs": [
    {
     "data": {
      "text/plain": [
       "array([[0., 0., 0.],\n",
       "       [0., 0., 0.],\n",
       "       [0., 0., 0.],\n",
       "       [0., 0., 0.]])"
      ]
     },
     "execution_count": 17,
     "metadata": {},
     "output_type": "execute_result"
    }
   ],
   "source": [
    "array = np.zeros((4,3))\n",
    "array"
   ]
  },
  {
   "cell_type": "markdown",
   "metadata": {},
   "source": [
    "17.Write a NumPy program to interchange two axes of an array. \n",
    "Sample array: [[1 2 3]]\n",
    "Expected Output:\n",
    "[[1]\n",
    "[2]\n",
    "[3]]"
   ]
  },
  {
   "cell_type": "code",
   "execution_count": 18,
   "metadata": {},
   "outputs": [
    {
     "name": "stdout",
     "output_type": "stream",
     "text": [
      "[[1 2 3]]\n",
      "[[1]\n",
      " [2]\n",
      " [3]]\n"
     ]
    }
   ],
   "source": [
    "array = np.array([[1,2,3]])\n",
    "print(array)\n",
    "array = np.swapaxes(array,0,1) #parameter: array,first axis, second axis\n",
    "print(array)\n"
   ]
  },
  {
   "cell_type": "markdown",
   "metadata": {},
   "source": [
    "18.Write a NumPy program to swap columns in a given array. \n",
    "Sample Output:\n",
    "Original array:\n",
    "    [[ 0 1 2 3]\n",
    "    [ 4 5 6 7]\n",
    "    [ 8 9 10 11]]\n",
    "After swapping arrays:\n",
    "    [[ 1 0 2 3]\n",
    "    [ 5 4 6 7]\n",
    "    [ 9 8 10 11]]\n"
   ]
  },
  {
   "cell_type": "code",
   "execution_count": 19,
   "metadata": {},
   "outputs": [
    {
     "name": "stdout",
     "output_type": "stream",
     "text": [
      "[[ 0  1  2  3]\n",
      " [ 4  5  6  7]\n",
      " [ 8  9 10 11]]\n",
      "[[ 1  0  2  3]\n",
      " [ 5  4  6  7]\n",
      " [ 9  8 10 11]]\n"
     ]
    }
   ],
   "source": [
    "array = np.arange(0,12).reshape(3,4)\n",
    "print(array)\n",
    "\n",
    "array[:,[0,1]]=array[:,[1,0]] #slicing the array\n",
    "print(array)\n",
    "    "
   ]
  },
  {
   "cell_type": "markdown",
   "metadata": {},
   "source": [
    "19.Replace all odd numbers in arr with -1\n",
    "arr = np.array([0, 1, 2, 3, 4, 5, 6, 7, 8, 9])\n",
    "array([ 0, -1, 2, -1, 4, -1, 6, -1, 8, -1])\n"
   ]
  },
  {
   "cell_type": "code",
   "execution_count": 20,
   "metadata": {},
   "outputs": [
    {
     "name": "stdout",
     "output_type": "stream",
     "text": [
      "[0 1 2 3 4 5 6 7 8 9]\n",
      "[ 0 -1  2 -1  4 -1  6 -1  8 -1]\n"
     ]
    }
   ],
   "source": [
    "arr = np.array([0, 1, 2, 3, 4, 5, 6, 7, 8, 9])\n",
    "print(arr)\n",
    "odd_num = np.argwhere((arr%2==1)).flatten() #converts 2D into 1D\n",
    "arr[odd_num] = -1\n",
    "print(arr)"
   ]
  },
  {
   "cell_type": "markdown",
   "metadata": {},
   "source": [
    "20.Create the following pattern without hardcoding. Use only numpy functions and \n",
    "the below input array a.\n",
    "Input:\n",
    "a = np.array([1,2,3])\n",
    "Desired Output:\n",
    "array([1, 1, 1, 2, 2, 2, 3, 3, 3, 1, 2, 3, 1, 2, 3, 1, 2, 3])"
   ]
  },
  {
   "cell_type": "code",
   "execution_count": 21,
   "metadata": {},
   "outputs": [
    {
     "name": "stdout",
     "output_type": "stream",
     "text": [
      "[1 1 1 2 2 2 3 3 3 1 2 3 1 2 3 1 2 3]\n"
     ]
    }
   ],
   "source": [
    "a = np.array([1,2,3])\n",
    "pattern_01= a.repeat(3)\n",
    "pattern_02  = np.tile(a,3)\n",
    "a = np.concatenate((pattern_01,pattern_02),axis=0)\n",
    "print(a)\n",
    "\n"
   ]
  },
  {
   "cell_type": "markdown",
   "metadata": {},
   "source": [
    "21.Pretty print by suppressing the scientific notation (like 1e10)\n",
    "Input: \n",
    "array([[ 5.434049e-04, 2.783694e-04, 4.245176e-04],\n",
    " [ 8.447761e-04, 4.718856e-06, 1.215691e-04],\n",
    " [ 6.707491e-04, 8.258528e-04, 1.367066e-04]])\n",
    "Desired Output:\n",
    "array([[ 0.000543, 0.000278, 0.000425],\n",
    " [ 0.000845, 0.000005, 0.000122],\n",
    " [ 0.000671, 0.000826, 0.000137]])"
   ]
  },
  {
   "cell_type": "code",
   "execution_count": 22,
   "metadata": {},
   "outputs": [
    {
     "data": {
      "text/plain": [
       "array([[0.0005434 , 0.00027837, 0.00042452],\n",
       "       [0.00084478, 0.00000472, 0.00012157],\n",
       "       [0.00067075, 0.00082585, 0.00013671]])"
      ]
     },
     "execution_count": 22,
     "metadata": {},
     "output_type": "execute_result"
    }
   ],
   "source": [
    "a=np.array([[5.434049e-04, 2.783694e-04, 4.245176e-04],[ 8.447761e-04, 4.718856e-06, 1.215691e-04],\n",
    "[ 6.707491e-04, 8.258528e-04, 1.367066e-04]])\n",
    "np.set_printoptions(suppress=True)\n",
    "a"
   ]
  },
  {
   "cell_type": "markdown",
   "metadata": {},
   "source": [
    "22.Provide NumPy code that calculates and prints each of the quantities below.\n",
    "\n",
    "B = 1 2 -3   A = 2 -5 1   y= 2  z = -15\n",
    "    3 4 -1       1  4 5     -4       -8\n",
    "                 2 -1 6      1      -22\n",
    "• BA\n",
    "• ABT\n",
    "• Ay\n",
    "• yTz (This is the inner product, or dot product, of y and z.)\n",
    "• yzT\n",
    "(This is the outer product of y and z."
   ]
  },
  {
   "cell_type": "code",
   "execution_count": 23,
   "metadata": {},
   "outputs": [],
   "source": [
    "A = np.array([[2,-5,1],[1,4,5],[2,-1,6]])\n",
    "B = np.array([[1,2,-3],[3,4,-1]])\n",
    "y = np.array([[2],[-4],[1]])\n",
    "z = np.array([[-15],[-8],[-22]])"
   ]
  },
  {
   "cell_type": "code",
   "execution_count": 24,
   "metadata": {},
   "outputs": [
    {
     "name": "stdout",
     "output_type": "stream",
     "text": [
      "[[-2  6 -7]\n",
      " [ 8  2 17]]\n"
     ]
    }
   ],
   "source": [
    "#print BA\n",
    "print(np.matmul(B,A))"
   ]
  },
  {
   "cell_type": "code",
   "execution_count": 25,
   "metadata": {},
   "outputs": [
    {
     "name": "stdout",
     "output_type": "stream",
     "text": [
      "[[-11 -15]\n",
      " [ -6  14]\n",
      " [-18  -4]]\n"
     ]
    }
   ],
   "source": [
    "#print AB^T\n",
    "B_transpose = B.transpose()\n",
    "#print(B_transpose)\n",
    "print(np.matmul(A,B_transpose))"
   ]
  },
  {
   "cell_type": "code",
   "execution_count": 26,
   "metadata": {},
   "outputs": [
    {
     "name": "stdout",
     "output_type": "stream",
     "text": [
      "[[25]\n",
      " [-9]\n",
      " [14]]\n"
     ]
    }
   ],
   "source": [
    "#print Ay\n",
    "print(np.matmul(A,y))"
   ]
  },
  {
   "cell_type": "code",
   "execution_count": 27,
   "metadata": {},
   "outputs": [
    {
     "name": "stdout",
     "output_type": "stream",
     "text": [
      "[[-20]]\n"
     ]
    }
   ],
   "source": [
    "#print y^tz\n",
    "y_transpose = y.transpose()\n",
    "print(np.matmul(y_transpose,z))"
   ]
  },
  {
   "cell_type": "code",
   "execution_count": 28,
   "metadata": {},
   "outputs": [
    {
     "name": "stdout",
     "output_type": "stream",
     "text": [
      "[[-30 -16 -44]\n",
      " [ 60  32  88]\n",
      " [-15  -8 -22]]\n"
     ]
    }
   ],
   "source": [
    "#print yzT\n",
    "z_transpose = z.transpose()\n",
    "print(np.matmul(y,z_transpose))"
   ]
  },
  {
   "cell_type": "markdown",
   "metadata": {},
   "source": [
    "23.How to get all the dates corresponding to the month of July 2016?\n",
    "Expected output:\n",
    "['2016-07-01' '2016-07-02' '2016-07-03' '2016-07-04' '2016-07-05'\n",
    "'2016-07-06' '2016-07-07' '2016-07-08' '2016-07-09' '2016-07-10'\n",
    "'2016-07-11' '2016-07-12' '2016-07-13' '2016-07-14' '2016-07-15'\n",
    "'2016-07-16' '2016-07-17' '2016-07-18' '2016-07-19' '2016-07-20'\n",
    "'2016-07-21' '2016-07-22' '2016-07-23' '2016-07-24' '2016-07-25'\n",
    "'2016-07-26' '2016-07-27' '2016-07-28' '2016-07-29' '2016-07-30'\n",
    "'2016-07-31']\n"
   ]
  },
  {
   "cell_type": "code",
   "execution_count": 29,
   "metadata": {},
   "outputs": [
    {
     "data": {
      "text/plain": [
       "array(['2016-07-01', '2016-07-02', '2016-07-03', '2016-07-04',\n",
       "       '2016-07-05', '2016-07-06', '2016-07-07', '2016-07-08',\n",
       "       '2016-07-09', '2016-07-10', '2016-07-11', '2016-07-12',\n",
       "       '2016-07-13', '2016-07-14', '2016-07-15', '2016-07-16',\n",
       "       '2016-07-17', '2016-07-18', '2016-07-19', '2016-07-20',\n",
       "       '2016-07-21', '2016-07-22', '2016-07-23', '2016-07-24',\n",
       "       '2016-07-25', '2016-07-26', '2016-07-27', '2016-07-28',\n",
       "       '2016-07-29', '2016-07-30', '2016-07-31'], dtype='datetime64[D]')"
      ]
     },
     "execution_count": 29,
     "metadata": {},
     "output_type": "execute_result"
    }
   ],
   "source": [
    "days = np.arange('2016-07','2016-08',dtype='datetime64[D]')\n",
    "days"
   ]
  },
  {
   "cell_type": "markdown",
   "metadata": {},
   "source": [
    "24.How to get the dates of yesterday, today and tomorrow using NumPy?"
   ]
  },
  {
   "cell_type": "code",
   "execution_count": 30,
   "metadata": {},
   "outputs": [
    {
     "name": "stdout",
     "output_type": "stream",
     "text": [
      "2021-06-24\n",
      "2021-06-25\n",
      "2021-06-26\n"
     ]
    }
   ],
   "source": [
    "#yesterday\n",
    "print(np.datetime64('today')-1)\n",
    "#today\n",
    "print(np.datetime64('today'))\n",
    "#tomorrow\n",
    "print(np.datetime64('today')+1)\n"
   ]
  },
  {
   "cell_type": "markdown",
   "metadata": {},
   "source": [
    "25.Normalize a 5x5 random matrix."
   ]
  },
  {
   "cell_type": "code",
   "execution_count": 31,
   "metadata": {},
   "outputs": [
    {
     "name": "stdout",
     "output_type": "stream",
     "text": [
      "[[0.15061386 0.14433828 0.08472029 0.26043646 0.2761254 ]\n",
      " [0.30122771 0.30750329 0.06275577 0.17885395 0.30122771]\n",
      " [0.24160973 0.17257838 0.19140511 0.         0.0282401 ]\n",
      " [0.06589356 0.13492491 0.14120049 0.31064108 0.19140511]\n",
      " [0.3043655  0.22905857 0.16944059 0.13492491 0.00627558]]\n"
     ]
    }
   ],
   "source": [
    "array = np.random.randint(100,size=[5,5])\n",
    "norm = np.linalg.norm(array)\n",
    "normalized_array = array/norm\n",
    "print(normalized_array)"
   ]
  }
 ],
 "metadata": {
  "kernelspec": {
   "display_name": "Python 3",
   "language": "python",
   "name": "python3"
  },
  "language_info": {
   "codemirror_mode": {
    "name": "ipython",
    "version": 3
   },
   "file_extension": ".py",
   "mimetype": "text/x-python",
   "name": "python",
   "nbconvert_exporter": "python",
   "pygments_lexer": "ipython3",
   "version": "3.8.5"
  }
 },
 "nbformat": 4,
 "nbformat_minor": 4
}
